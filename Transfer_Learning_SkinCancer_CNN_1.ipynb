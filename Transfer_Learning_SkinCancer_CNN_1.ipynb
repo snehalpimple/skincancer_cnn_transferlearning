{
  "nbformat": 4,
  "nbformat_minor": 0,
  "metadata": {
    "colab": {
      "name": "Transfer_Learning_SkinCancer_CNN_1.ipynb",
      "provenance": [],
      "collapsed_sections": [],
      "toc_visible": true
    },
    "kernelspec": {
      "name": "python3",
      "display_name": "Python 3"
    },
    "language_info": {
      "name": "python"
    },
    "accelerator": "GPU"
  },
  "cells": [
    {
      "cell_type": "code",
      "metadata": {
        "id": "rJQmWUBNd0Cq"
      },
      "source": [
        "import numpy as np \n",
        "import pandas as pd\n",
        "import os # for directories\n",
        "import cv2\n",
        "import matplotlib.pyplot as plt\n",
        "import tensorflow as tf\n",
        "from tensorflow import keras\n",
        "from keras.callbacks import ModelCheckpoint\n",
        "from keras.callbacks import EarlyStopping\n",
        "#from tensorflow.keras import \n",
        "from tensorflow.keras.models import Sequential\n",
        "from tensorflow.keras.optimizers import RMSprop\n",
        "from tensorflow.keras.preprocessing.image import ImageDataGenerator\n",
        "from tensorflow.keras import layers\n",
        "from tensorflow.keras.layers import Conv2D\n",
        "from tensorflow.keras.layers import MaxPooling2D\n",
        "\n",
        "\n",
        "\n",
        "\n"
      ],
      "execution_count": null,
      "outputs": []
    },
    {
      "cell_type": "code",
      "metadata": {
        "id": "5e6puNSEeUMp"
      },
      "source": [
        "#print(os.getcwd())"
      ],
      "execution_count": null,
      "outputs": []
    },
    {
      "cell_type": "code",
      "metadata": {
        "colab": {
          "base_uri": "https://localhost:8080/"
        },
        "id": "_hgBBaYffQHm",
        "outputId": "66c36d8e-b870-46ca-aa20-f91c33529d9a"
      },
      "source": [
        "from google.colab import drive\n",
        "drive.mount('/gdrive')\n",
        "%cd /gdrive"
      ],
      "execution_count": null,
      "outputs": [
        {
          "output_type": "stream",
          "text": [
            "Mounted at /gdrive\n",
            "/gdrive\n"
          ],
          "name": "stdout"
        }
      ]
    },
    {
      "cell_type": "code",
      "metadata": {
        "id": "micq8vxogRGs",
        "colab": {
          "base_uri": "https://localhost:8080/"
        },
        "outputId": "41673991-f4e7-4c20-fc6e-3da53811f6dc"
      },
      "source": [
        "%ls /gdrive/MyDrive/5644_ML_Project/\n"
      ],
      "execution_count": null,
      "outputs": [
        {
          "output_type": "stream",
          "text": [
            "\u001b[0m\u001b[01;34mdataset_dogs_vs_cats\u001b[0m/  \u001b[01;34mDataset_SkinCancer\u001b[0m/  model.hdf5  \u001b[01;34mModels_1\u001b[0m/\n"
          ],
          "name": "stdout"
        }
      ]
    },
    {
      "cell_type": "code",
      "metadata": {
        "id": "0fps_M6fHn1O"
      },
      "source": [
        "from google.colab import drive\n",
        "drive.mount('/content/drive')"
      ],
      "execution_count": null,
      "outputs": []
    },
    {
      "cell_type": "code",
      "metadata": {
        "colab": {
          "base_uri": "https://localhost:8080/"
        },
        "id": "hnKGtZa0hBfo",
        "outputId": "bd4f3662-e2b8-4770-ec1b-718137d770c5"
      },
      "source": [
        "# to get data\n",
        "train_path = os.path.join('/gdrive/MyDrive/5644_ML_Project', 'Dataset_SkinCancer/train')\n",
        "print(train_path)\n",
        "test_path = os.path.join('/gdrive/MyDrive/5644_ML_Project', 'Dataset_SkinCancer/test')\n",
        "print(test_path)"
      ],
      "execution_count": null,
      "outputs": [
        {
          "output_type": "stream",
          "text": [
            "/gdrive/MyDrive/5644_ML_Project/Dataset_SkinCancer/train\n",
            "/gdrive/MyDrive/5644_ML_Project/Dataset_SkinCancer/test\n"
          ],
          "name": "stdout"
        }
      ]
    },
    {
      "cell_type": "code",
      "metadata": {
        "colab": {
          "base_uri": "https://localhost:8080/"
        },
        "id": "Xut5mIc9iDHl",
        "outputId": "205692b1-e138-4b30-d556-a140545e0811"
      },
      "source": [
        "class_names = ['malignant', 'benign']\n",
        "print(\"Classes\",class_names)\n",
        "\n",
        "print('Count of Train Images:')\n",
        "for i in class_names:\n",
        "    print(i +' Train'+ ':' + str(len(os.listdir(os.path.join(train_path, i)))))\n",
        "\n",
        "    \n",
        "print('Count of Test Images:')\n",
        "for i in class_names:\n",
        "    print(i +' Test'+ ':' + str(len(os.listdir(os.path.join(test_path, i)))))\n",
        "    "
      ],
      "execution_count": null,
      "outputs": [
        {
          "output_type": "stream",
          "text": [
            "Classes ['malignant', 'benign']\n",
            "Count of Train Images:\n",
            "malignant Train:1197\n",
            "benign Train:1440\n",
            "Count of Test Images:\n",
            "malignant Test:300\n",
            "benign Test:360\n"
          ],
          "name": "stdout"
        }
      ]
    },
    {
      "cell_type": "code",
      "metadata": {
        "colab": {
          "base_uri": "https://localhost:8080/"
        },
        "id": "E6lPeRE5jVqs",
        "outputId": "9c69c062-d83a-4472-93b6-ca91db7ada45"
      },
      "source": [
        "train_datagen = ImageDataGenerator(rescale=1./255,validation_split=0.2) #,horizontal_flip=True)#)\n",
        "test_datagen = ImageDataGenerator(rescale=1./255)\n",
        "\n",
        "train_generator = train_datagen.flow_from_directory(\n",
        "        train_path,\n",
        "        target_size=(32,32),\n",
        "        batch_size=16,\n",
        "        class_mode='binary',\n",
        "        subset='training')\n",
        "validation_generator = train_datagen.flow_from_directory(\n",
        "        train_path,\n",
        "        target_size=(32,32),\n",
        "        batch_size=10,\n",
        "        class_mode='binary',\n",
        "        subset='validation')\n",
        "test_generator = test_datagen.flow_from_directory(\n",
        "        test_path,\n",
        "        target_size=(32,32),\n",
        "        batch_size=8,\n",
        "        class_mode='binary')"
      ],
      "execution_count": null,
      "outputs": [
        {
          "output_type": "stream",
          "text": [
            "Found 2110 images belonging to 2 classes.\n",
            "Found 527 images belonging to 2 classes.\n",
            "Found 660 images belonging to 2 classes.\n"
          ],
          "name": "stdout"
        }
      ]
    },
    {
      "cell_type": "code",
      "metadata": {
        "colab": {
          "base_uri": "https://localhost:8080/"
        },
        "id": "pAVCBFzIjA4I",
        "outputId": "885ca5b5-b366-49be-aa33-d964ec4c8f44"
      },
      "source": [
        "# CNN model\n",
        "\n",
        "#def model_1 (Malignant_train_images, Malignant_test_images):\n",
        "model = tf.keras.models.Sequential([\n",
        "    tf.keras.layers.Conv2D(64, (3,3), activation = \"relu\", padding='same', input_shape = (32,32,3), trainable=False),\n",
        "    tf.keras.layers.MaxPooling2D(2,2),\n",
        "    #tf.keras.layers.Dropout(0.25),\n",
        "    tf.keras.layers.Conv2D(64, (3,3), padding='same', activation = \"relu\",  trainable=True),\n",
        "    #tf.keras.layers.MaxPooling2D(2,2),\n",
        "    #tf.keras.layers.Dropout(0.5),\n",
        "    tf.keras.layers.Conv2D(128, (3,3), padding='same', activation = \"relu\", trainable=True),\n",
        "    #tf.keras.layers.MaxPooling2D(2,2),\n",
        "    #tf.keras.layers.Dropout(0.5),\n",
        "    tf.keras.layers.Flatten(),\n",
        "    tf.keras.layers.Dense(256,activation = \"relu\"),\n",
        "    tf.keras.layers.Dropout(0.5),\n",
        "    tf.keras.layers.Dense(80,activation = \"relu\"),\n",
        "    tf.keras.layers.Dense(1,activation = \"sigmoid\")\n",
        "])\n",
        "\n",
        "\n",
        "# load json and create model\n",
        "# json_file = open('model.json', 'r')\n",
        "# loaded_model_json = json_file.read()\n",
        "# json_file.close()\n",
        "#loaded_model = model_from_json(loaded_model_json)\n",
        "\n",
        "# load weights into new model\n",
        "model.load_weights(r\"/gdrive/MyDrive/5644_ML_Project/Models_1/cat_dogs_model_v1.h5\")\n",
        "print(\"Loaded model from disk\")\n",
        "\n",
        "\n",
        "    # training the model    \n",
        "opt = keras.optimizers.Adam(learning_rate=0.00001)\n",
        "model.summary()\n",
        "\n",
        "model.compile(optimizer=opt, loss='binary_crossentropy', metrics=['acc'])\n",
        "\n",
        "# checkpoint\n",
        "#filepath=\"best_weights_p_neuron-{epoch:02d}-{val_acc:.2f}.hdf5\"\n",
        "filepath = r\"/gdrive/MyDrive/5644_ML_Project/Models_1/transfter_model_v2\"\n",
        "checkpoint = ModelCheckpoint(filepath, monitor='val_acc', verbose=0, save_best_only=True, mode='max')\n",
        "early_stop = EarlyStopping (monitor='val_acc', mode='max', verbose=0, patience=10)\n",
        "callbacks_list = [early_stop,checkpoint]\n",
        "\n",
        "history = model.fit_generator(train_generator, validation_data = validation_generator, steps_per_epoch = 132,epochs = 100, validation_steps = 50, verbose = 1, callbacks=callbacks_list) #\n",
        "\n",
        "   # return accuracy\n"
      ],
      "execution_count": null,
      "outputs": [
        {
          "output_type": "stream",
          "text": [
            "Loaded model from disk\n",
            "Model: \"sequential_1\"\n",
            "_________________________________________________________________\n",
            "Layer (type)                 Output Shape              Param #   \n",
            "=================================================================\n",
            "conv2d_3 (Conv2D)            (None, 32, 32, 64)        1792      \n",
            "_________________________________________________________________\n",
            "max_pooling2d_1 (MaxPooling2 (None, 16, 16, 64)        0         \n",
            "_________________________________________________________________\n",
            "conv2d_4 (Conv2D)            (None, 16, 16, 64)        36928     \n",
            "_________________________________________________________________\n",
            "conv2d_5 (Conv2D)            (None, 16, 16, 128)       73856     \n",
            "_________________________________________________________________\n",
            "flatten_1 (Flatten)          (None, 32768)             0         \n",
            "_________________________________________________________________\n",
            "dense_3 (Dense)              (None, 256)               8388864   \n",
            "_________________________________________________________________\n",
            "dropout_4 (Dropout)          (None, 256)               0         \n",
            "_________________________________________________________________\n",
            "dense_4 (Dense)              (None, 80)                20560     \n",
            "_________________________________________________________________\n",
            "dense_5 (Dense)              (None, 1)                 81        \n",
            "=================================================================\n",
            "Total params: 8,522,081\n",
            "Trainable params: 8,520,289\n",
            "Non-trainable params: 1,792\n",
            "_________________________________________________________________\n",
            "Epoch 1/100\n"
          ],
          "name": "stdout"
        },
        {
          "output_type": "stream",
          "text": [
            "/usr/local/lib/python3.7/dist-packages/tensorflow/python/keras/engine/training.py:1844: UserWarning: `Model.fit_generator` is deprecated and will be removed in a future version. Please use `Model.fit`, which supports generators.\n",
            "  warnings.warn('`Model.fit_generator` is deprecated and '\n"
          ],
          "name": "stderr"
        },
        {
          "output_type": "stream",
          "text": [
            "132/132 [==============================] - 9s 61ms/step - loss: 0.9172 - acc: 0.4429 - val_loss: 0.7029 - val_acc: 0.5520\n",
            "INFO:tensorflow:Assets written to: /gdrive/MyDrive/5644_ML_Project/Models_1/transfter_model_v2/assets\n",
            "Epoch 2/100\n",
            "132/132 [==============================] - 8s 60ms/step - loss: 0.8307 - acc: 0.4811 - val_loss: 0.6778 - val_acc: 0.6080\n",
            "INFO:tensorflow:Assets written to: /gdrive/MyDrive/5644_ML_Project/Models_1/transfter_model_v2/assets\n",
            "Epoch 3/100\n",
            "132/132 [==============================] - 8s 63ms/step - loss: 0.7781 - acc: 0.5319 - val_loss: 0.6554 - val_acc: 0.6260\n",
            "INFO:tensorflow:Assets written to: /gdrive/MyDrive/5644_ML_Project/Models_1/transfter_model_v2/assets\n",
            "Epoch 4/100\n",
            "132/132 [==============================] - 8s 62ms/step - loss: 0.7593 - acc: 0.5518 - val_loss: 0.6421 - val_acc: 0.6440\n",
            "INFO:tensorflow:Assets written to: /gdrive/MyDrive/5644_ML_Project/Models_1/transfter_model_v2/assets\n",
            "Epoch 5/100\n",
            "132/132 [==============================] - 9s 65ms/step - loss: 0.7301 - acc: 0.5632 - val_loss: 0.6359 - val_acc: 0.6440\n",
            "Epoch 6/100\n",
            "132/132 [==============================] - 8s 61ms/step - loss: 0.6989 - acc: 0.5827 - val_loss: 0.6204 - val_acc: 0.6580\n",
            "INFO:tensorflow:Assets written to: /gdrive/MyDrive/5644_ML_Project/Models_1/transfter_model_v2/assets\n",
            "Epoch 7/100\n",
            "132/132 [==============================] - 8s 62ms/step - loss: 0.6705 - acc: 0.6159 - val_loss: 0.6176 - val_acc: 0.6500\n",
            "Epoch 8/100\n",
            "132/132 [==============================] - 8s 64ms/step - loss: 0.6872 - acc: 0.6022 - val_loss: 0.6122 - val_acc: 0.6440\n",
            "Epoch 9/100\n",
            "132/132 [==============================] - 8s 61ms/step - loss: 0.6623 - acc: 0.6020 - val_loss: 0.6083 - val_acc: 0.6420\n",
            "Epoch 10/100\n",
            "132/132 [==============================] - 8s 61ms/step - loss: 0.6490 - acc: 0.6291 - val_loss: 0.6018 - val_acc: 0.6520\n",
            "Epoch 11/100\n",
            "132/132 [==============================] - 8s 61ms/step - loss: 0.6551 - acc: 0.6210 - val_loss: 0.5955 - val_acc: 0.6560\n",
            "Epoch 12/100\n",
            "132/132 [==============================] - 8s 62ms/step - loss: 0.6299 - acc: 0.6380 - val_loss: 0.5872 - val_acc: 0.6580\n",
            "Epoch 13/100\n",
            "132/132 [==============================] - 8s 62ms/step - loss: 0.6243 - acc: 0.6380 - val_loss: 0.5862 - val_acc: 0.6520\n",
            "Epoch 14/100\n",
            "132/132 [==============================] - 8s 61ms/step - loss: 0.6180 - acc: 0.6477 - val_loss: 0.5868 - val_acc: 0.6500\n",
            "Epoch 15/100\n",
            "132/132 [==============================] - 8s 61ms/step - loss: 0.6104 - acc: 0.6570 - val_loss: 0.5828 - val_acc: 0.6620\n",
            "INFO:tensorflow:Assets written to: /gdrive/MyDrive/5644_ML_Project/Models_1/transfter_model_v2/assets\n",
            "Epoch 16/100\n",
            "132/132 [==============================] - 8s 61ms/step - loss: 0.6110 - acc: 0.6521 - val_loss: 0.5757 - val_acc: 0.6660\n",
            "INFO:tensorflow:Assets written to: /gdrive/MyDrive/5644_ML_Project/Models_1/transfter_model_v2/assets\n",
            "Epoch 17/100\n",
            "132/132 [==============================] - 8s 63ms/step - loss: 0.6087 - acc: 0.6639 - val_loss: 0.5712 - val_acc: 0.6760\n",
            "INFO:tensorflow:Assets written to: /gdrive/MyDrive/5644_ML_Project/Models_1/transfter_model_v2/assets\n",
            "Epoch 18/100\n",
            "132/132 [==============================] - 8s 61ms/step - loss: 0.5864 - acc: 0.6796 - val_loss: 0.5696 - val_acc: 0.6740\n",
            "Epoch 19/100\n",
            "132/132 [==============================] - 8s 63ms/step - loss: 0.5961 - acc: 0.6705 - val_loss: 0.5627 - val_acc: 0.6840\n",
            "INFO:tensorflow:Assets written to: /gdrive/MyDrive/5644_ML_Project/Models_1/transfter_model_v2/assets\n",
            "Epoch 20/100\n",
            "132/132 [==============================] - 8s 61ms/step - loss: 0.5922 - acc: 0.6693 - val_loss: 0.5600 - val_acc: 0.6820\n",
            "Epoch 21/100\n",
            "132/132 [==============================] - 8s 63ms/step - loss: 0.5753 - acc: 0.6954 - val_loss: 0.5601 - val_acc: 0.6920\n",
            "INFO:tensorflow:Assets written to: /gdrive/MyDrive/5644_ML_Project/Models_1/transfter_model_v2/assets\n",
            "Epoch 22/100\n",
            "132/132 [==============================] - 8s 62ms/step - loss: 0.5619 - acc: 0.7090 - val_loss: 0.5508 - val_acc: 0.6960\n",
            "INFO:tensorflow:Assets written to: /gdrive/MyDrive/5644_ML_Project/Models_1/transfter_model_v2/assets\n",
            "Epoch 23/100\n",
            "132/132 [==============================] - 9s 65ms/step - loss: 0.5619 - acc: 0.6981 - val_loss: 0.5494 - val_acc: 0.7000\n",
            "INFO:tensorflow:Assets written to: /gdrive/MyDrive/5644_ML_Project/Models_1/transfter_model_v2/assets\n",
            "Epoch 24/100\n",
            "132/132 [==============================] - 8s 61ms/step - loss: 0.5641 - acc: 0.6914 - val_loss: 0.5469 - val_acc: 0.7020\n",
            "INFO:tensorflow:Assets written to: /gdrive/MyDrive/5644_ML_Project/Models_1/transfter_model_v2/assets\n",
            "Epoch 25/100\n",
            "132/132 [==============================] - 8s 64ms/step - loss: 0.5714 - acc: 0.6786 - val_loss: 0.5444 - val_acc: 0.7100\n",
            "INFO:tensorflow:Assets written to: /gdrive/MyDrive/5644_ML_Project/Models_1/transfter_model_v2/assets\n",
            "Epoch 26/100\n",
            "132/132 [==============================] - 8s 64ms/step - loss: 0.5511 - acc: 0.6958 - val_loss: 0.5395 - val_acc: 0.7160\n",
            "INFO:tensorflow:Assets written to: /gdrive/MyDrive/5644_ML_Project/Models_1/transfter_model_v2/assets\n",
            "Epoch 27/100\n",
            "132/132 [==============================] - 8s 62ms/step - loss: 0.5498 - acc: 0.7202 - val_loss: 0.5296 - val_acc: 0.7160\n",
            "Epoch 28/100\n",
            "132/132 [==============================] - 8s 63ms/step - loss: 0.5447 - acc: 0.7144 - val_loss: 0.5310 - val_acc: 0.7140\n",
            "Epoch 29/100\n",
            "132/132 [==============================] - 8s 60ms/step - loss: 0.5207 - acc: 0.7369 - val_loss: 0.5283 - val_acc: 0.7120\n",
            "Epoch 30/100\n",
            "132/132 [==============================] - 8s 62ms/step - loss: 0.5237 - acc: 0.7394 - val_loss: 0.5136 - val_acc: 0.7280\n",
            "INFO:tensorflow:Assets written to: /gdrive/MyDrive/5644_ML_Project/Models_1/transfter_model_v2/assets\n",
            "Epoch 31/100\n",
            "132/132 [==============================] - 8s 61ms/step - loss: 0.5268 - acc: 0.7317 - val_loss: 0.5195 - val_acc: 0.7200\n",
            "Epoch 32/100\n",
            "132/132 [==============================] - 8s 63ms/step - loss: 0.5192 - acc: 0.7368 - val_loss: 0.5070 - val_acc: 0.7280\n",
            "Epoch 33/100\n",
            "132/132 [==============================] - 8s 60ms/step - loss: 0.5349 - acc: 0.7246 - val_loss: 0.5144 - val_acc: 0.7200\n",
            "Epoch 34/100\n",
            "132/132 [==============================] - 8s 61ms/step - loss: 0.5080 - acc: 0.7542 - val_loss: 0.5089 - val_acc: 0.7120\n",
            "Epoch 35/100\n",
            "132/132 [==============================] - 8s 61ms/step - loss: 0.4863 - acc: 0.7580 - val_loss: 0.5095 - val_acc: 0.7220\n",
            "Epoch 36/100\n",
            "132/132 [==============================] - 8s 61ms/step - loss: 0.4956 - acc: 0.7567 - val_loss: 0.5078 - val_acc: 0.7220\n",
            "Epoch 37/100\n",
            "132/132 [==============================] - 8s 61ms/step - loss: 0.5104 - acc: 0.7415 - val_loss: 0.4989 - val_acc: 0.7360\n",
            "INFO:tensorflow:Assets written to: /gdrive/MyDrive/5644_ML_Project/Models_1/transfter_model_v2/assets\n",
            "Epoch 38/100\n",
            "132/132 [==============================] - 8s 61ms/step - loss: 0.4747 - acc: 0.7745 - val_loss: 0.4951 - val_acc: 0.7280\n",
            "Epoch 39/100\n",
            "132/132 [==============================] - 8s 63ms/step - loss: 0.4911 - acc: 0.7563 - val_loss: 0.4960 - val_acc: 0.7260\n",
            "Epoch 40/100\n",
            "132/132 [==============================] - 8s 61ms/step - loss: 0.4843 - acc: 0.7621 - val_loss: 0.4974 - val_acc: 0.7280\n",
            "Epoch 41/100\n",
            "132/132 [==============================] - 8s 62ms/step - loss: 0.4802 - acc: 0.7504 - val_loss: 0.4898 - val_acc: 0.7240\n",
            "Epoch 42/100\n",
            "132/132 [==============================] - 8s 61ms/step - loss: 0.4675 - acc: 0.7821 - val_loss: 0.4991 - val_acc: 0.7240\n",
            "Epoch 43/100\n",
            "132/132 [==============================] - 8s 60ms/step - loss: 0.4771 - acc: 0.7669 - val_loss: 0.4858 - val_acc: 0.7420\n",
            "INFO:tensorflow:Assets written to: /gdrive/MyDrive/5644_ML_Project/Models_1/transfter_model_v2/assets\n",
            "Epoch 44/100\n",
            "132/132 [==============================] - 8s 63ms/step - loss: 0.4728 - acc: 0.7718 - val_loss: 0.4839 - val_acc: 0.7440\n",
            "INFO:tensorflow:Assets written to: /gdrive/MyDrive/5644_ML_Project/Models_1/transfter_model_v2/assets\n",
            "Epoch 45/100\n",
            "132/132 [==============================] - 8s 63ms/step - loss: 0.4681 - acc: 0.7558 - val_loss: 0.4833 - val_acc: 0.7460\n",
            "INFO:tensorflow:Assets written to: /gdrive/MyDrive/5644_ML_Project/Models_1/transfter_model_v2/assets\n",
            "Epoch 46/100\n",
            "132/132 [==============================] - 8s 63ms/step - loss: 0.4635 - acc: 0.7722 - val_loss: 0.4813 - val_acc: 0.7540\n",
            "INFO:tensorflow:Assets written to: /gdrive/MyDrive/5644_ML_Project/Models_1/transfter_model_v2/assets\n",
            "Epoch 47/100\n",
            "132/132 [==============================] - 8s 63ms/step - loss: 0.4572 - acc: 0.7834 - val_loss: 0.4887 - val_acc: 0.7440\n",
            "Epoch 48/100\n",
            "132/132 [==============================] - 8s 62ms/step - loss: 0.4557 - acc: 0.7649 - val_loss: 0.4841 - val_acc: 0.7460\n",
            "Epoch 49/100\n",
            "132/132 [==============================] - 8s 61ms/step - loss: 0.4721 - acc: 0.7636 - val_loss: 0.4841 - val_acc: 0.7440\n",
            "Epoch 50/100\n",
            "132/132 [==============================] - 8s 60ms/step - loss: 0.4533 - acc: 0.7666 - val_loss: 0.4805 - val_acc: 0.7480\n",
            "Epoch 51/100\n",
            "132/132 [==============================] - 8s 61ms/step - loss: 0.4649 - acc: 0.7710 - val_loss: 0.4754 - val_acc: 0.7540\n",
            "Epoch 52/100\n",
            "132/132 [==============================] - 8s 60ms/step - loss: 0.4357 - acc: 0.8000 - val_loss: 0.4786 - val_acc: 0.7560\n",
            "INFO:tensorflow:Assets written to: /gdrive/MyDrive/5644_ML_Project/Models_1/transfter_model_v2/assets\n",
            "Epoch 53/100\n",
            "132/132 [==============================] - 8s 61ms/step - loss: 0.4392 - acc: 0.7923 - val_loss: 0.4714 - val_acc: 0.7580\n",
            "INFO:tensorflow:Assets written to: /gdrive/MyDrive/5644_ML_Project/Models_1/transfter_model_v2/assets\n",
            "Epoch 54/100\n",
            "132/132 [==============================] - 8s 63ms/step - loss: 0.4316 - acc: 0.7936 - val_loss: 0.4748 - val_acc: 0.7540\n",
            "Epoch 55/100\n",
            "132/132 [==============================] - 8s 61ms/step - loss: 0.4269 - acc: 0.7926 - val_loss: 0.4739 - val_acc: 0.7540\n",
            "Epoch 56/100\n",
            "132/132 [==============================] - 8s 61ms/step - loss: 0.4398 - acc: 0.7789 - val_loss: 0.4800 - val_acc: 0.7500\n",
            "Epoch 57/100\n",
            "132/132 [==============================] - 8s 60ms/step - loss: 0.4443 - acc: 0.7865 - val_loss: 0.4768 - val_acc: 0.7480\n",
            "Epoch 58/100\n",
            "132/132 [==============================] - 8s 60ms/step - loss: 0.4303 - acc: 0.7906 - val_loss: 0.4837 - val_acc: 0.7480\n",
            "Epoch 59/100\n",
            "132/132 [==============================] - 8s 60ms/step - loss: 0.4178 - acc: 0.8129 - val_loss: 0.4698 - val_acc: 0.7600\n",
            "INFO:tensorflow:Assets written to: /gdrive/MyDrive/5644_ML_Project/Models_1/transfter_model_v2/assets\n",
            "Epoch 60/100\n",
            "132/132 [==============================] - 8s 61ms/step - loss: 0.4083 - acc: 0.8082 - val_loss: 0.4783 - val_acc: 0.7540\n",
            "Epoch 61/100\n",
            "132/132 [==============================] - 8s 63ms/step - loss: 0.4260 - acc: 0.8120 - val_loss: 0.4652 - val_acc: 0.7660\n",
            "INFO:tensorflow:Assets written to: /gdrive/MyDrive/5644_ML_Project/Models_1/transfter_model_v2/assets\n",
            "Epoch 62/100\n",
            "132/132 [==============================] - 8s 61ms/step - loss: 0.4080 - acc: 0.7980 - val_loss: 0.4738 - val_acc: 0.7560\n",
            "Epoch 63/100\n",
            "132/132 [==============================] - 8s 63ms/step - loss: 0.4328 - acc: 0.8043 - val_loss: 0.4594 - val_acc: 0.7680\n",
            "INFO:tensorflow:Assets written to: /gdrive/MyDrive/5644_ML_Project/Models_1/transfter_model_v2/assets\n",
            "Epoch 64/100\n",
            "132/132 [==============================] - 8s 62ms/step - loss: 0.4054 - acc: 0.8056 - val_loss: 0.4672 - val_acc: 0.7620\n",
            "Epoch 65/100\n",
            "132/132 [==============================] - 8s 64ms/step - loss: 0.4322 - acc: 0.7947 - val_loss: 0.4656 - val_acc: 0.7720\n",
            "INFO:tensorflow:Assets written to: /gdrive/MyDrive/5644_ML_Project/Models_1/transfter_model_v2/assets\n",
            "Epoch 66/100\n",
            "132/132 [==============================] - 8s 61ms/step - loss: 0.4180 - acc: 0.7945 - val_loss: 0.4560 - val_acc: 0.7680\n",
            "Epoch 67/100\n",
            "132/132 [==============================] - 8s 63ms/step - loss: 0.3967 - acc: 0.8083 - val_loss: 0.4669 - val_acc: 0.7600\n",
            "Epoch 68/100\n",
            "132/132 [==============================] - 8s 60ms/step - loss: 0.4124 - acc: 0.8083 - val_loss: 0.4667 - val_acc: 0.7640\n",
            "Epoch 69/100\n",
            "132/132 [==============================] - 8s 61ms/step - loss: 0.3814 - acc: 0.8328 - val_loss: 0.4575 - val_acc: 0.7740\n",
            "INFO:tensorflow:Assets written to: /gdrive/MyDrive/5644_ML_Project/Models_1/transfter_model_v2/assets\n",
            "Epoch 70/100\n",
            "132/132 [==============================] - 8s 60ms/step - loss: 0.4058 - acc: 0.7989 - val_loss: 0.4636 - val_acc: 0.7720\n",
            "Epoch 71/100\n",
            "132/132 [==============================] - 8s 63ms/step - loss: 0.3956 - acc: 0.8141 - val_loss: 0.4529 - val_acc: 0.7720\n",
            "Epoch 72/100\n",
            "132/132 [==============================] - 8s 61ms/step - loss: 0.4220 - acc: 0.7846 - val_loss: 0.4591 - val_acc: 0.7640\n",
            "Epoch 73/100\n",
            "132/132 [==============================] - 8s 61ms/step - loss: 0.3910 - acc: 0.8218 - val_loss: 0.4596 - val_acc: 0.7700\n",
            "Epoch 74/100\n",
            "132/132 [==============================] - 8s 61ms/step - loss: 0.3946 - acc: 0.8229 - val_loss: 0.4678 - val_acc: 0.7620\n",
            "Epoch 75/100\n",
            "132/132 [==============================] - 8s 61ms/step - loss: 0.4004 - acc: 0.8051 - val_loss: 0.4605 - val_acc: 0.7640\n",
            "Epoch 76/100\n",
            "132/132 [==============================] - 8s 61ms/step - loss: 0.3915 - acc: 0.8195 - val_loss: 0.4678 - val_acc: 0.7640\n",
            "Epoch 77/100\n",
            "132/132 [==============================] - 8s 63ms/step - loss: 0.3913 - acc: 0.8251 - val_loss: 0.4583 - val_acc: 0.7760\n",
            "INFO:tensorflow:Assets written to: /gdrive/MyDrive/5644_ML_Project/Models_1/transfter_model_v2/assets\n",
            "Epoch 78/100\n",
            "132/132 [==============================] - 8s 62ms/step - loss: 0.3902 - acc: 0.8089 - val_loss: 0.4657 - val_acc: 0.7680\n",
            "Epoch 79/100\n",
            "132/132 [==============================] - 8s 63ms/step - loss: 0.3954 - acc: 0.8080 - val_loss: 0.4666 - val_acc: 0.7660\n",
            "Epoch 80/100\n",
            "132/132 [==============================] - 8s 60ms/step - loss: 0.3935 - acc: 0.7993 - val_loss: 0.4576 - val_acc: 0.7700\n",
            "Epoch 81/100\n",
            "132/132 [==============================] - 8s 62ms/step - loss: 0.3683 - acc: 0.8225 - val_loss: 0.4638 - val_acc: 0.7700\n",
            "Epoch 82/100\n",
            "132/132 [==============================] - 8s 61ms/step - loss: 0.3672 - acc: 0.8245 - val_loss: 0.4625 - val_acc: 0.7660\n",
            "Epoch 83/100\n",
            "132/132 [==============================] - 8s 62ms/step - loss: 0.3769 - acc: 0.8246 - val_loss: 0.4664 - val_acc: 0.7680\n",
            "Epoch 84/100\n",
            "132/132 [==============================] - 8s 61ms/step - loss: 0.3768 - acc: 0.8154 - val_loss: 0.4635 - val_acc: 0.7720\n",
            "Epoch 85/100\n",
            "132/132 [==============================] - 8s 62ms/step - loss: 0.3870 - acc: 0.8205 - val_loss: 0.4590 - val_acc: 0.7740\n",
            "Epoch 86/100\n",
            "132/132 [==============================] - 8s 61ms/step - loss: 0.3569 - acc: 0.8284 - val_loss: 0.4646 - val_acc: 0.7660\n",
            "Epoch 87/100\n",
            "132/132 [==============================] - 8s 61ms/step - loss: 0.3610 - acc: 0.8357 - val_loss: 0.4621 - val_acc: 0.7640\n"
          ],
          "name": "stdout"
        }
      ]
    },
    {
      "cell_type": "code",
      "metadata": {
        "id": "SRrSYIWljBtQ",
        "colab": {
          "base_uri": "https://localhost:8080/"
        },
        "outputId": "b9ae784f-8d7c-4da6-9a6d-d4bb24ec813f"
      },
      "source": [
        "loss , accuracy = model.evaluate(test_generator)"
      ],
      "execution_count": null,
      "outputs": [
        {
          "output_type": "stream",
          "text": [
            "83/83 [==============================] - 221s 3s/step - loss: 0.6419 - acc: 0.5955\n"
          ],
          "name": "stdout"
        }
      ]
    },
    {
      "cell_type": "code",
      "metadata": {
        "id": "BIjhXX89Id1V"
      },
      "source": [
        ""
      ],
      "execution_count": null,
      "outputs": []
    }
  ]
}