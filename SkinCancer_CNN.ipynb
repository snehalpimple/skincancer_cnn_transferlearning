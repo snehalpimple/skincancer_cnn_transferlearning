{
 "cells": [
  {
   "cell_type": "code",
   "execution_count": null,
   "metadata": {
    "id": "rJQmWUBNd0Cq"
   },
   "outputs": [],
   "source": [
    "import numpy as np \n",
    "import pandas as pd\n",
    "import os # for directories\n",
    "import cv2\n",
    "import matplotlib.pyplot as plt\n",
    "import tensorflow as tf\n",
    "from tensorflow import keras\n",
    "from keras.callbacks import ModelCheckpoint\n",
    "from keras.callbacks import EarlyStopping\n",
    "#from tensorflow.keras import \n",
    "from tensorflow.keras.models import Sequential\n",
    "from tensorflow.keras.optimizers import RMSprop\n",
    "from tensorflow.keras.preprocessing.image import ImageDataGenerator\n",
    "from tensorflow.keras import layers\n",
    "from tensorflow.keras.layers import Conv2D\n",
    "from tensorflow.keras.layers import MaxPooling2D\n",
    "from tensorflow.keras.layers import Dropout\n",
    "\n",
    "\n",
    "\n",
    "\n"
   ]
  },
  {
   "cell_type": "code",
   "execution_count": null,
   "metadata": {
    "id": "5e6puNSEeUMp"
   },
   "outputs": [],
   "source": [
    "#print(os.getcwd())"
   ]
  },
  {
   "cell_type": "code",
   "execution_count": null,
   "metadata": {
    "colab": {
     "base_uri": "https://localhost:8080/"
    },
    "id": "_hgBBaYffQHm",
    "outputId": "86c798b1-0d18-4217-c68d-82e2d640cac9"
   },
   "outputs": [
    {
     "name": "stdout",
     "output_type": "stream",
     "text": [
      "Mounted at /gdrive\n",
      "/gdrive\n"
     ]
    }
   ],
   "source": [
    "from google.colab import drive\n",
    "drive.mount('/gdrive')\n",
    "%cd /gdrive"
   ]
  },
  {
   "cell_type": "code",
   "execution_count": null,
   "metadata": {
    "colab": {
     "base_uri": "https://localhost:8080/"
    },
    "id": "micq8vxogRGs",
    "outputId": "3a46949c-2064-4cfa-de09-8a345c17d06a"
   },
   "outputs": [
    {
     "name": "stdout",
     "output_type": "stream",
     "text": [
      "\u001b[0m\u001b[01;34mdata\u001b[0m/  \u001b[01;34mtest\u001b[0m/  \u001b[01;34mtrain\u001b[0m/\n"
     ]
    }
   ],
   "source": [
    "%ls /gdrive/MyDrive/5644_ML_Project/Dataset_SkinCancer/\n"
   ]
  },
  {
   "cell_type": "code",
   "execution_count": null,
   "metadata": {
    "colab": {
     "base_uri": "https://localhost:8080/"
    },
    "id": "hnKGtZa0hBfo",
    "outputId": "85ec56d1-f9bc-49f7-8e7e-3c7955e512dc"
   },
   "outputs": [
    {
     "name": "stdout",
     "output_type": "stream",
     "text": [
      "/gdrive/MyDrive/5644_ML_Project/Dataset_SkinCancer/train\n",
      "/gdrive/MyDrive/5644_ML_Project/Dataset_SkinCancer/test\n"
     ]
    }
   ],
   "source": [
    "# to get data\n",
    "train_path = os.path.join('/gdrive/MyDrive/5644_ML_Project', 'Dataset_SkinCancer/train')\n",
    "print(train_path)\n",
    "test_path = os.path.join('/gdrive/MyDrive/5644_ML_Project', 'Dataset_SkinCancer/test')\n",
    "print(test_path)"
   ]
  },
  {
   "cell_type": "code",
   "execution_count": null,
   "metadata": {
    "colab": {
     "base_uri": "https://localhost:8080/"
    },
    "id": "Xut5mIc9iDHl",
    "outputId": "f95eb6a5-89f3-4054-9f27-4c534da61705"
   },
   "outputs": [
    {
     "name": "stdout",
     "output_type": "stream",
     "text": [
      "Classes ['malignant', 'benign']\n",
      "Count of Train Images:\n",
      "malignant Train:1197\n",
      "benign Train:1440\n",
      "Count of Test Images:\n",
      "malignant Test:300\n",
      "benign Test:360\n"
     ]
    }
   ],
   "source": [
    "class_names = ['malignant', 'benign']\n",
    "print(\"Classes\",class_names)\n",
    "\n",
    "print('Count of Train Images:')\n",
    "for i in class_names:\n",
    "    print(i +' Train'+ ':' + str(len(os.listdir(os.path.join(train_path, i)))))\n",
    "\n",
    "    \n",
    "print('Count of Test Images:')\n",
    "for i in class_names:\n",
    "    print(i +' Test'+ ':' + str(len(os.listdir(os.path.join(test_path, i)))))\n",
    "    "
   ]
  },
  {
   "cell_type": "code",
   "execution_count": null,
   "metadata": {
    "colab": {
     "base_uri": "https://localhost:8080/"
    },
    "id": "E6lPeRE5jVqs",
    "outputId": "b605cf18-5d7f-4233-a6aa-3adc4f16cfca"
   },
   "outputs": [
    {
     "name": "stdout",
     "output_type": "stream",
     "text": [
      "Found 2110 images belonging to 2 classes.\n",
      "Found 527 images belonging to 2 classes.\n",
      "Found 660 images belonging to 2 classes.\n"
     ]
    }
   ],
   "source": [
    "train_datagen = ImageDataGenerator(rescale=1./255,validation_split=0.2) #,horizontal_flip=True)#)\n",
    "test_datagen = ImageDataGenerator(rescale=1./255)\n",
    "\n",
    "train_generator = train_datagen.flow_from_directory(\n",
    "        train_path,\n",
    "        target_size=(32,32),\n",
    "        batch_size=16,\n",
    "        class_mode='binary',\n",
    "        subset='training')\n",
    "validation_generator = train_datagen.flow_from_directory(\n",
    "        train_path,\n",
    "        target_size=(32,32),\n",
    "        batch_size=10,\n",
    "        class_mode='binary',\n",
    "        subset='validation')\n",
    "test_generator = test_datagen.flow_from_directory(\n",
    "        test_path,\n",
    "        target_size=(32,32),\n",
    "        batch_size=8,\n",
    "        class_mode='binary')"
   ]
  },
  {
   "cell_type": "code",
   "execution_count": null,
   "metadata": {
    "colab": {
     "base_uri": "https://localhost:8080/"
    },
    "id": "pAVCBFzIjA4I",
    "outputId": "42e27da6-32ff-4484-ee5c-fdf1bc28ddb1"
   },
   "outputs": [
    {
     "name": "stdout",
     "output_type": "stream",
     "text": [
      "Model: \"sequential_3\"\n",
      "_________________________________________________________________\n",
      "Layer (type)                 Output Shape              Param #   \n",
      "=================================================================\n",
      "conv2d_9 (Conv2D)            (None, 30, 30, 64)        1792      \n",
      "_________________________________________________________________\n",
      "max_pooling2d_9 (MaxPooling2 (None, 15, 15, 64)        0         \n",
      "_________________________________________________________________\n",
      "dropout_9 (Dropout)          (None, 15, 15, 64)        0         \n",
      "_________________________________________________________________\n",
      "conv2d_10 (Conv2D)           (None, 13, 13, 64)        36928     \n",
      "_________________________________________________________________\n",
      "max_pooling2d_10 (MaxPooling (None, 6, 6, 64)          0         \n",
      "_________________________________________________________________\n",
      "dropout_10 (Dropout)         (None, 6, 6, 64)          0         \n",
      "_________________________________________________________________\n",
      "conv2d_11 (Conv2D)           (None, 4, 4, 128)         73856     \n",
      "_________________________________________________________________\n",
      "max_pooling2d_11 (MaxPooling (None, 2, 2, 128)         0         \n",
      "_________________________________________________________________\n",
      "dropout_11 (Dropout)         (None, 2, 2, 128)         0         \n",
      "_________________________________________________________________\n",
      "flatten_3 (Flatten)          (None, 512)               0         \n",
      "_________________________________________________________________\n",
      "dense_9 (Dense)              (None, 256)               131328    \n",
      "_________________________________________________________________\n",
      "dense_10 (Dense)             (None, 80)                20560     \n",
      "_________________________________________________________________\n",
      "dense_11 (Dense)             (None, 1)                 81        \n",
      "=================================================================\n",
      "Total params: 264,545\n",
      "Trainable params: 264,545\n",
      "Non-trainable params: 0\n",
      "_________________________________________________________________\n",
      "Epoch 1/100\n"
     ]
    },
    {
     "name": "stderr",
     "output_type": "stream",
     "text": [
      "/usr/local/lib/python3.7/dist-packages/tensorflow/python/keras/engine/training.py:1844: UserWarning: `Model.fit_generator` is deprecated and will be removed in a future version. Please use `Model.fit`, which supports generators.\n",
      "  warnings.warn('`Model.fit_generator` is deprecated and '\n"
     ]
    },
    {
     "name": "stdout",
     "output_type": "stream",
     "text": [
      "132/132 [==============================] - 8s 56ms/step - loss: 1.1313 - acc: 0.5358 - val_loss: 0.6224 - val_acc: 0.6560\n",
      "Epoch 2/100\n",
      "132/132 [==============================] - 7s 55ms/step - loss: 0.5757 - acc: 0.7069 - val_loss: 0.5843 - val_acc: 0.6180\n",
      "Epoch 3/100\n",
      "132/132 [==============================] - 7s 55ms/step - loss: 0.5044 - acc: 0.7613 - val_loss: 0.5202 - val_acc: 0.7520\n",
      "Epoch 4/100\n",
      "132/132 [==============================] - 7s 54ms/step - loss: 0.4308 - acc: 0.7803 - val_loss: 0.5250 - val_acc: 0.7780\n",
      "Epoch 5/100\n",
      "132/132 [==============================] - 7s 55ms/step - loss: 0.4072 - acc: 0.8068 - val_loss: 0.4984 - val_acc: 0.7700\n",
      "Epoch 6/100\n",
      "132/132 [==============================] - 7s 54ms/step - loss: 0.4310 - acc: 0.7916 - val_loss: 0.4908 - val_acc: 0.7640\n",
      "Epoch 7/100\n",
      "132/132 [==============================] - 7s 54ms/step - loss: 0.3876 - acc: 0.8192 - val_loss: 0.4762 - val_acc: 0.7620\n",
      "Epoch 8/100\n",
      "132/132 [==============================] - 7s 54ms/step - loss: 0.4189 - acc: 0.7837 - val_loss: 0.5118 - val_acc: 0.7820\n",
      "Epoch 9/100\n",
      "132/132 [==============================] - 7s 55ms/step - loss: 0.3962 - acc: 0.8123 - val_loss: 0.4901 - val_acc: 0.7780\n",
      "Epoch 10/100\n",
      "132/132 [==============================] - 7s 54ms/step - loss: 0.3792 - acc: 0.8200 - val_loss: 0.4743 - val_acc: 0.7780\n",
      "Epoch 11/100\n",
      "132/132 [==============================] - 7s 54ms/step - loss: 0.3988 - acc: 0.8052 - val_loss: 0.4875 - val_acc: 0.7360\n",
      "Epoch 12/100\n",
      "132/132 [==============================] - 7s 54ms/step - loss: 0.4010 - acc: 0.7875 - val_loss: 0.4522 - val_acc: 0.7800\n",
      "Epoch 13/100\n",
      "132/132 [==============================] - 7s 54ms/step - loss: 0.3811 - acc: 0.8203 - val_loss: 0.4570 - val_acc: 0.7680\n",
      "Epoch 14/100\n",
      "132/132 [==============================] - 7s 55ms/step - loss: 0.3851 - acc: 0.8048 - val_loss: 0.4511 - val_acc: 0.8000\n",
      "Epoch 15/100\n",
      "132/132 [==============================] - 7s 56ms/step - loss: 0.3601 - acc: 0.8183 - val_loss: 0.4598 - val_acc: 0.7860\n",
      "Epoch 16/100\n",
      "132/132 [==============================] - 7s 55ms/step - loss: 0.3888 - acc: 0.8147 - val_loss: 0.4661 - val_acc: 0.7900\n",
      "Epoch 17/100\n",
      "132/132 [==============================] - 7s 54ms/step - loss: 0.3555 - acc: 0.8241 - val_loss: 0.4470 - val_acc: 0.8100\n",
      "Epoch 18/100\n",
      "132/132 [==============================] - 7s 54ms/step - loss: 0.3636 - acc: 0.8109 - val_loss: 0.4522 - val_acc: 0.8080\n",
      "Epoch 19/100\n",
      "132/132 [==============================] - 7s 53ms/step - loss: 0.3451 - acc: 0.8176 - val_loss: 0.4356 - val_acc: 0.7980\n",
      "Epoch 20/100\n",
      "132/132 [==============================] - 7s 53ms/step - loss: 0.3522 - acc: 0.8188 - val_loss: 0.4663 - val_acc: 0.7940\n",
      "Epoch 21/100\n",
      "132/132 [==============================] - 7s 53ms/step - loss: 0.3515 - acc: 0.8294 - val_loss: 0.4440 - val_acc: 0.8040\n",
      "Epoch 22/100\n",
      "132/132 [==============================] - 7s 53ms/step - loss: 0.3453 - acc: 0.8265 - val_loss: 0.4288 - val_acc: 0.8060\n",
      "Epoch 23/100\n",
      "132/132 [==============================] - 7s 53ms/step - loss: 0.3383 - acc: 0.8315 - val_loss: 0.4290 - val_acc: 0.8140\n",
      "Epoch 24/100\n",
      "132/132 [==============================] - 7s 53ms/step - loss: 0.3402 - acc: 0.8104 - val_loss: 0.4386 - val_acc: 0.7940\n",
      "Epoch 25/100\n",
      "132/132 [==============================] - 7s 53ms/step - loss: 0.3323 - acc: 0.8383 - val_loss: 0.4391 - val_acc: 0.7920\n",
      "Epoch 26/100\n",
      "132/132 [==============================] - 7s 53ms/step - loss: 0.3213 - acc: 0.8339 - val_loss: 0.4309 - val_acc: 0.7900\n",
      "Epoch 27/100\n",
      "132/132 [==============================] - 7s 54ms/step - loss: 0.3355 - acc: 0.8186 - val_loss: 0.4524 - val_acc: 0.7820\n",
      "Epoch 28/100\n",
      "132/132 [==============================] - 7s 54ms/step - loss: 0.3339 - acc: 0.8286 - val_loss: 0.4203 - val_acc: 0.8040\n",
      "Epoch 29/100\n",
      "132/132 [==============================] - 7s 56ms/step - loss: 0.3214 - acc: 0.8333 - val_loss: 0.4371 - val_acc: 0.7700\n",
      "Epoch 30/100\n",
      "132/132 [==============================] - 7s 54ms/step - loss: 0.3348 - acc: 0.8271 - val_loss: 0.4514 - val_acc: 0.7860\n",
      "Epoch 31/100\n",
      "132/132 [==============================] - 7s 55ms/step - loss: 0.3293 - acc: 0.8485 - val_loss: 0.4347 - val_acc: 0.7940\n",
      "Epoch 32/100\n",
      "132/132 [==============================] - 7s 55ms/step - loss: 0.3150 - acc: 0.8529 - val_loss: 0.4112 - val_acc: 0.8200\n",
      "Epoch 33/100\n",
      "132/132 [==============================] - 7s 55ms/step - loss: 0.3161 - acc: 0.8464 - val_loss: 0.4516 - val_acc: 0.8160\n",
      "Epoch 34/100\n",
      "132/132 [==============================] - 7s 54ms/step - loss: 0.3166 - acc: 0.8497 - val_loss: 0.4347 - val_acc: 0.7920\n",
      "Epoch 35/100\n",
      "132/132 [==============================] - 7s 54ms/step - loss: 0.3157 - acc: 0.8456 - val_loss: 0.5038 - val_acc: 0.7980\n",
      "Epoch 36/100\n",
      "132/132 [==============================] - 7s 54ms/step - loss: 0.3141 - acc: 0.8514 - val_loss: 0.4475 - val_acc: 0.7680\n",
      "Epoch 37/100\n",
      "132/132 [==============================] - 7s 55ms/step - loss: 0.3066 - acc: 0.8413 - val_loss: 0.4450 - val_acc: 0.8040\n",
      "Epoch 38/100\n",
      "132/132 [==============================] - 7s 56ms/step - loss: 0.2974 - acc: 0.8522 - val_loss: 0.4037 - val_acc: 0.8140\n",
      "Epoch 39/100\n",
      "132/132 [==============================] - 7s 54ms/step - loss: 0.2915 - acc: 0.8555 - val_loss: 0.4993 - val_acc: 0.8040\n",
      "Epoch 40/100\n",
      "132/132 [==============================] - 7s 54ms/step - loss: 0.3059 - acc: 0.8425 - val_loss: 0.4055 - val_acc: 0.8400\n",
      "Epoch 41/100\n",
      "132/132 [==============================] - 7s 55ms/step - loss: 0.2854 - acc: 0.8529 - val_loss: 0.4457 - val_acc: 0.7540\n",
      "Epoch 42/100\n",
      "132/132 [==============================] - 7s 54ms/step - loss: 0.2802 - acc: 0.8612 - val_loss: 0.4302 - val_acc: 0.8120\n",
      "Epoch 43/100\n",
      "132/132 [==============================] - 7s 54ms/step - loss: 0.2830 - acc: 0.8638 - val_loss: 0.4540 - val_acc: 0.8100\n",
      "Epoch 44/100\n",
      "132/132 [==============================] - 7s 55ms/step - loss: 0.2958 - acc: 0.8446 - val_loss: 0.4101 - val_acc: 0.8160\n",
      "Epoch 45/100\n",
      "132/132 [==============================] - 7s 56ms/step - loss: 0.2641 - acc: 0.8705 - val_loss: 0.4509 - val_acc: 0.8080\n",
      "Epoch 46/100\n",
      "132/132 [==============================] - 7s 56ms/step - loss: 0.2903 - acc: 0.8621 - val_loss: 0.4514 - val_acc: 0.7940\n",
      "Epoch 47/100\n",
      "132/132 [==============================] - 7s 54ms/step - loss: 0.2637 - acc: 0.8658 - val_loss: 0.4063 - val_acc: 0.8280\n",
      "Epoch 48/100\n",
      "132/132 [==============================] - 7s 54ms/step - loss: 0.2929 - acc: 0.8628 - val_loss: 0.4316 - val_acc: 0.8200\n",
      "Epoch 49/100\n",
      "132/132 [==============================] - 7s 54ms/step - loss: 0.2733 - acc: 0.8574 - val_loss: 0.4223 - val_acc: 0.8160\n",
      "Epoch 50/100\n",
      "132/132 [==============================] - 7s 54ms/step - loss: 0.2753 - acc: 0.8721 - val_loss: 0.4461 - val_acc: 0.8020\n"
     ]
    }
   ],
   "source": [
    "# CNN model\n",
    "\n",
    "#def model_1 (Malignant_train_images, Malignant_test_images):\n",
    "model = tf.keras.models.Sequential([\n",
    "    tf.keras.layers.Conv2D(64, (3,3), activation = \"relu\", kernel_initializer='he_uniform',input_shape = (32,32,3)), #padding='same' \n",
    "    tf.keras.layers.MaxPooling2D(2,2),\n",
    "    tf.keras.layers.Dropout(0.25),\n",
    "    tf.keras.layers.Conv2D(64, (3,3), activation = \"relu\", kernel_initializer='he_uniform'), \n",
    "    tf.keras.layers.MaxPooling2D(2,2),\n",
    "    tf.keras.layers.Dropout(0.5),\n",
    "    tf.keras.layers.Conv2D(128, (3,3), activation = \"relu\", kernel_initializer='he_uniform'),\n",
    "    tf.keras.layers.MaxPooling2D(2,2),\n",
    "    tf.keras.layers.Dropout(0.5),\n",
    "    tf.keras.layers.Flatten(),\n",
    "    tf.keras.layers.Dense(256,activation = \"relu\", kernel_initializer='he_uniform'),\n",
    "    tf.keras.layers.Dense(80,activation = \"relu\", kernel_initializer='he_uniform'),\n",
    "    tf.keras.layers.Dense(1,activation = \"sigmoid\")\n",
    "])\n",
    "    # training the model    \n",
    "#opt = tf.keras.optimizers.Adam(learning_rate=0.01),\n",
    "opt = keras.optimizers.Adam(learning_rate=0.001)\n",
    "model.summary()\n",
    "\n",
    "model.compile(optimizer=opt, loss='binary_crossentropy', metrics=['acc'])\n",
    "\n",
    "# checkpoint\n",
    "#filepath=\"best_weights_p_neuron-{epoch:02d}-{val_acc:.2f}.hdf5\"\n",
    "filepath = r\"/gdrive/MyDrive/5644_ML_Project/model_cnn_SC.hdf5\"\n",
    "checkpoint = ModelCheckpoint(filepath, monitor='val_acc', verbose=0, save_best_only=True, mode='max')\n",
    "early_stop = EarlyStopping (monitor='val_acc', mode='max', verbose=0, patience=10)\n",
    "callbacks_list = [early_stop,checkpoint]\n",
    "\n",
    "history = model.fit_generator(train_generator, validation_data = validation_generator, steps_per_epoch = 132,epochs = 100, validation_steps = 50, verbose = 1, callbacks=callbacks_list) #\n",
    "\n",
    "  \n",
    "  \n",
    "   # return accuracy\n"
   ]
  },
  {
   "cell_type": "code",
   "execution_count": null,
   "metadata": {
    "colab": {
     "base_uri": "https://localhost:8080/",
     "height": 573
    },
    "id": "tsu2uIOsBS04",
    "outputId": "da4c100d-8b41-4122-9450-6d43f14954a5"
   },
   "outputs": [
    {
     "data": {
      "image/png": "[encoded data removed]",
      "text/plain": [
       "<Figure size 432x288 with 1 Axes>"
      ]
     },
     "metadata": {
      "needs_background": "light",
      "tags": []
     },
     "output_type": "display_data"
    },
    {
     "data": {
      "image/png": "[encoded data removed]",
      "text/plain": [
       "<Figure size 432x288 with 1 Axes>"
      ]
     },
     "metadata": {
      "needs_background": "light",
      "tags": []
     },
     "output_type": "display_data"
    }
   ],
   "source": [
    "from matplotlib import pyplot\n",
    "# plot loss\n",
    "#pyplot.subplot(211)\n",
    "pyplot.figure()\n",
    "pyplot.title('Cross Entropy Loss')\n",
    "pyplot.plot(history.history['loss'], color='blue', label='train')\n",
    "pyplot.plot(history.history['val_loss'], color='orange', label='Validation')\n",
    "pyplot.xlabel('Epochs')\n",
    "pyplot.ylabel('Loss')\n",
    "pyplot.legend()\n",
    "pyplot.savefig(\"/gdrive/MyDrive/5644_ML_Project/Plots/SC_CNN_loss.png\")\n",
    "\n",
    "# plot accuracy\n",
    "#pyplot.subplot(212)\n",
    "pyplot.figure()\n",
    "pyplot.title('Classification Accuracy')\n",
    "pyplot.plot(history.history['acc'], color='blue', label='train')\n",
    "pyplot.plot(history.history['val_acc'], color='orange', label='Validation')\n",
    "pyplot.xlabel('Epochs')\n",
    "pyplot.ylabel('Accuracy')\n",
    "pyplot.legend()\n",
    "# save plot to file\n",
    "#filename = sys.argv[0].split('/')[-1]\n",
    "pyplot.savefig('/gdrive/MyDrive/5644_ML_Project/Plots/SC_CNN_accuracy.png')"
   ]
  },
  {
   "cell_type": "code",
   "execution_count": null,
   "metadata": {
    "colab": {
     "base_uri": "https://localhost:8080/"
    },
    "id": "SRrSYIWljBtQ",
    "outputId": "71eed09a-6b3e-4df9-aaa7-5820e92dd419"
   },
   "outputs": [
    {
     "name": "stdout",
     "output_type": "stream",
     "text": [
      "83/83 [==============================] - 2s 23ms/step - loss: 0.3486 - acc: 0.8424\n"
     ]
    }
   ],
   "source": [
    "loss , accuracy = model.evaluate(test_generator)"
   ]
  },
  {
   "cell_type": "code",
   "execution_count": null,
   "metadata": {
    "id": "WxF9ywu3G6p3"
   },
   "outputs": [],
   "source": []
  },
  {
   "cell_type": "code",
   "execution_count": null,
   "metadata": {
    "id": "za7q4Dq0HAn4"
   },
   "outputs": [],
   "source": []
  }
 ],
 "metadata": {
  "accelerator": "GPU",
  "colab": {
   "collapsed_sections": [],
   "name": "SkinCancer_CNN_2.ipynb",
   "provenance": [],
   "toc_visible": true
  },
  "kernelspec": {
   "display_name": "Python 3",
   "language": "python",
   "name": "python3"
  },
  "language_info": {
   "codemirror_mode": {
    "name": "ipython",
    "version": 3
   },
   "file_extension": ".py",
   "mimetype": "text/x-python",
   "name": "python",
   "nbconvert_exporter": "python",
   "pygments_lexer": "ipython3",
   "version": "3.8.3"
  }
 },
 "nbformat": 4,
 "nbformat_minor": 1
}
